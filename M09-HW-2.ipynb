{
 "cells": [
  {
   "cell_type": "markdown",
   "id": "bbea800c-241d-42b4-a744-ecaffe13959e",
   "metadata": {},
   "source": [
    "# Metadata\n",
    "\n",
    "```yaml\n",
    "Course:  DS 5100\n",
    "Module:  09 Python Packages\n",
    "Topic:   HW Package Booklover\n",
    "Author:  R.C. Alvarado (adapted)\n",
    "Date:    2 July 2024 (revised)\n",
    "```"
   ]
  },
  {
   "cell_type": "markdown",
   "id": "36f46fdd-2405-4dc8-9ea1-33f395e56cc0",
   "metadata": {},
   "source": [
    "# Student Info\n",
    "\n",
    "* Name: Abraham Tedla\n",
    "* Net UD: wqp7qy\n",
    "* URL of this file in GitHub: https://github.com/abrish2049/M09HW"
   ]
  },
  {
   "cell_type": "markdown",
   "id": "375875a8-1503-46eb-8ea1-7e5bf39b5c41",
   "metadata": {},
   "source": [
    "# Instructions\n",
    "\n",
    "In your **private course repo on Rivanna**, use this Jupyter notebook and the data file described to write code that performs the tasks below. \n",
    "\n",
    "Save your notebook in the `M09` directory.\n",
    "\n",
    "Remember to add and commit these files to your repo. \n",
    "\n",
    "Then push your commits to your repo on GitHib.\n",
    "\n",
    "Be sure to fill out the **Student Info** block above.\n",
    "\n",
    "To submit your homework, save your results as a PDF and upload it to GradeScope. More information about how to create the PDF for this assignment are included at the end of this document.\n",
    "\n",
    "**TOTAL POINTS: 8**"
   ]
  },
  {
   "cell_type": "markdown",
   "id": "1baf08dc-35fe-44f1-bc26-7e1130ee993e",
   "metadata": {},
   "source": [
    "# Overview\n",
    "\n",
    "Follow the following recipe we used in class to package the code you wrote for `HW08` -- `booklover.py` and `booklover_test.py`.\n",
    "\n",
    "* Create a new git repo for your package.\n",
    "* Create and edit the required files and directories for your package and move the booklover modules there.\n",
    "  * <span style=\"color:green;font-weight:bold;\">Create a package directory called `booklover`.</span>\n",
    "  * <span style=\"color:green;font-weight:bold;\">Create a module called `booklover` inside the package directory.</span>\n",
    "  * <span style=\"color:green;font-weight:bold;\">Put the test file above the package directory, in the root of the project directory.</span>\n",
    "* Stage, commit, and push all the files you've created.\n",
    "* Install your package with pip.\n",
    "* Outside of your package dir, write a script to test your method.\n",
    "\n",
    "Put this notebook in your repo. This will allow you to execute bash commands and capture the outpunt directly in the notebook.\n",
    "\n",
    "**TOTAL: 8 POINTS**"
   ]
  },
  {
   "cell_type": "markdown",
   "id": "6e39ba79-49ee-41e8-9e49-23d9d6bac2e0",
   "metadata": {
    "tags": []
   },
   "source": [
    "# Tasks"
   ]
  },
  {
   "cell_type": "markdown",
   "id": "fb11de14",
   "metadata": {},
   "source": [
    "## Task 1\n",
    "\n",
    "(5 points)\n",
    "\n",
    "Show the directory structure of your repo by running this command from the root of your repo.\n",
    "\n",
    "<span style=\"color:green;font-weight:bold;\">Note: You may run this from the command line and cut-and-paste a screenshot of your results here.</span>"
   ]
  },
  {
   "cell_type": "code",
   "execution_count": 4,
   "id": "7e6c6607",
   "metadata": {
    "tags": []
   },
   "outputs": [
    {
     "name": "stdout",
     "output_type": "stream",
     "text": [
      ".:\n",
      "total 12\n",
      "drwx--S--- 4 wqp7qy users 4096 Mar 23 14:24 booklover\n",
      "drwx--S--- 2 wqp7qy users 4096 Mar 23 14:31 booklover.egg-info\n",
      "-rw------- 1 wqp7qy users 1894 Mar 23 14:32 booklover_test.py\n",
      "-rw------- 1 wqp7qy users  266 Mar 23 14:32 demo.py\n",
      "-rw------- 1 wqp7qy users 1067 Mar 23 14:19 LICENSE\n",
      "-rw------- 1 wqp7qy users 7330 Mar 23 14:31 M09-HW-2.ipynb\n",
      "-rw------- 1 wqp7qy users   30 Mar 23 14:20 README.md\n",
      "-rw------- 1 wqp7qy users  285 Mar 23 14:30 setup.py\n",
      "\n",
      "./booklover:\n",
      "total 2\n",
      "-rw------- 1 wqp7qy users 2879 Mar 23 14:20 booklover.py\n",
      "-rw------- 1 wqp7qy users   27 Mar 23 14:24 __init__.py\n",
      "drwx--S--- 2 wqp7qy users 4096 Mar 23 14:25 __pycache__\n",
      "\n",
      "./booklover/__pycache__:\n",
      "total 9\n",
      "-rw------- 1 wqp7qy users 4254 Mar 23 14:25 booklover.cpython-311.pyc\n",
      "-rw------- 1 wqp7qy users  245 Mar 23 14:24 __init__.cpython-311.pyc\n",
      "\n",
      "./booklover.egg-info:\n",
      "total 2\n",
      "-rw------- 1 wqp7qy users   1 Mar 23 14:31 dependency_links.txt\n",
      "-rw------- 1 wqp7qy users 224 Mar 23 14:31 PKG-INFO\n",
      "-rw------- 1 wqp7qy users 203 Mar 23 14:31 SOURCES.txt\n",
      "-rw------- 1 wqp7qy users  10 Mar 23 14:31 top_level.txt\n"
     ]
    }
   ],
   "source": [
    "!ls -lR"
   ]
  },
  {
   "cell_type": "markdown",
   "id": "6b6f288b-05aa-441b-8c73-84b50b3b6844",
   "metadata": {},
   "source": [
    "## Task 2\n",
    "\n",
    "(1 point)\n",
    "\n",
    "Put the URL of your GitHub repo here. Just paste it into a Markdown cell."
   ]
  },
  {
   "cell_type": "markdown",
   "id": "4d09d889-6104-4f20-b31c-2d8a72b17693",
   "metadata": {},
   "source": [
    "URL: https://github.com/abrish2049/M09HW"
   ]
  },
  {
   "cell_type": "markdown",
   "id": "f989dcd1-b1d2-4eb9-8ef6-8ca2d8495260",
   "metadata": {
    "lines_to_next_cell": 0
   },
   "source": [
    "## Task 3\n",
    "\n",
    "(1 point)\n",
    "\n",
    "Show the results of installing your package.\n",
    "\n",
    "```bash\n",
    "!pip install -e .\n",
    "```\n",
    "\n",
    "<span style=\"color:green;font-weight:bold;\">Note: You may run this from the command line and cut-and-paste a screenshot of your results here.</span>"
   ]
  },
  {
   "cell_type": "code",
   "execution_count": 3,
   "id": "68cbaedf-09c2-43fe-988e-2861407524c4",
   "metadata": {
    "tags": []
   },
   "outputs": [
    {
     "name": "stdout",
     "output_type": "stream",
     "text": [
      "Defaulting to user installation because normal site-packages is not writeable\n",
      "Obtaining file:///sfs/gpfs/tardis/home/wqp7qy/Documents/MSDS/DS5100/M09HW\n",
      "  Preparing metadata (setup.py) ... \u001b[?25ldone\n",
      "\u001b[?25hInstalling collected packages: booklover\n",
      "  Running setup.py develop for booklover\n",
      "Successfully installed booklover-1.0\n"
     ]
    }
   ],
   "source": [
    "!pip install -e ."
   ]
  },
  {
   "cell_type": "markdown",
   "id": "5b1a642e-74f0-43ff-97a3-9ddc7553978e",
   "metadata": {},
   "source": [
    "## Task 4\n",
    "\n",
    "(1 point)\n",
    "\n",
    "Create a file outside your repo to test your package by running it.\n",
    "\n",
    "To do this, import the package into your file and create a BookLover object.\n",
    "\n",
    "Then add a book and then print number books read.\n",
    "\n",
    "Then run the file. \n",
    "\n",
    "Show the output of running the file below, using a command like the following:\n",
    "\n",
    "```bash\n",
    "!python ../book_lover_demo.py\n",
    "```\n",
    "\n",
    "<span style=\"color:green;font-weight:bold;\">Note: You may run this from the command line and cut-and-paste a screenshot of your results here.</span>"
   ]
  },
  {
   "cell_type": "code",
   "execution_count": 6,
   "id": "5924fca8-6483-4f2b-a33f-6550d1726d6e",
   "metadata": {},
   "outputs": [
    {
     "name": "stdout",
     "output_type": "stream",
     "text": [
      "from booklover.booklover import BookLover\n",
      "\n",
      "testreader=BookLover(\"Test Reader\",\"johndoe@acme.com\",\"SciFI\")\n",
      "\n",
      "print(testreader.book_list)\n",
      "\n",
      "testreader.add_book(\"1984\",5)\n",
      "testreader.add_book(\"Ender's Game\",2)\n",
      "print(testreader.book_list)\n",
      "print(testreader.fav_books())\n",
      "print(testreader.num_books_read())\n",
      "\n",
      "print(testreader.name)\n",
      "print(testreader.email)\n",
      "print(testreader.fav_genre)"
     ]
    }
   ],
   "source": [
    "!cat ../demo.py"
   ]
  },
  {
   "cell_type": "code",
   "execution_count": 7,
   "id": "24414aea-f8b3-405e-adce-372424f4f52c",
   "metadata": {
    "tags": []
   },
   "outputs": [
    {
     "name": "stdout",
     "output_type": "stream",
     "text": [
      "Booklover Package\n",
      "Empty DataFrame\n",
      "Columns: [book_name, book_rating]\n",
      "Index: []\n",
      "      book_name  book_rating\n",
      "0          1984          5.0\n",
      "1  Ender's Game          2.0\n",
      "  book_name  book_rating\n",
      "0      1984          5.0\n",
      "2\n",
      "Test Reader\n",
      "johndoe@acme.com\n",
      "SciFI\n"
     ]
    }
   ],
   "source": [
    "!python ../demo.py"
   ]
  },
  {
   "cell_type": "code",
   "execution_count": 8,
   "id": "4e069a35-0378-47dd-b34c-f2e34f87fc98",
   "metadata": {
    "tags": []
   },
   "outputs": [
    {
     "name": "stdout",
     "output_type": "stream",
     "text": [
      "Booklover Package\n",
      "test_1_add_book (__main__.BookLoverTestSuite.test_1_add_book) ... ok\n",
      "test_2_add_book (__main__.BookLoverTestSuite.test_2_add_book) ... ok\n",
      "test_3_has_read (__main__.BookLoverTestSuite.test_3_has_read) ... ok\n",
      "test_4_has_read (__main__.BookLoverTestSuite.test_4_has_read) ... ok\n",
      "test_5_num_books_read (__main__.BookLoverTestSuite.test_5_num_books_read) ... ok\n",
      "test_6_fav_books (__main__.BookLoverTestSuite.test_6_fav_books) ... ok\n",
      "\n",
      "----------------------------------------------------------------------\n",
      "Ran 6 tests in 0.005s\n",
      "\n",
      "OK\n"
     ]
    }
   ],
   "source": [
    "!python ../booklover_test.py"
   ]
  }
 ],
 "metadata": {
  "jupytext": {
   "cell_metadata_filter": "-all",
   "main_language": "bash",
   "notebook_metadata_filter": "-all"
  },
  "kernelspec": {
   "display_name": "Python 3 (ipykernel)",
   "language": "python",
   "name": "python3"
  },
  "language_info": {
   "codemirror_mode": {
    "name": "ipython",
    "version": 3
   },
   "file_extension": ".py",
   "mimetype": "text/x-python",
   "name": "python",
   "nbconvert_exporter": "python",
   "pygments_lexer": "ipython3",
   "version": "3.11.4"
  },
  "vscode": {
   "interpreter": {
    "hash": "c3b963de08c47c3b6758389c5e0978ad73698a111eb508d4e16b558edb8f4cbf"
   }
  },
  "widgets": {
   "application/vnd.jupyter.widget-state+json": {
    "state": {},
    "version_major": 2,
    "version_minor": 0
   }
  }
 },
 "nbformat": 4,
 "nbformat_minor": 5
}
